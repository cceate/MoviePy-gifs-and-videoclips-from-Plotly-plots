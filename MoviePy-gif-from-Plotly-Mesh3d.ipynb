{
 "cells": [
  {
   "cell_type": "markdown",
   "metadata": {},
   "source": [
    "##  MoviePy: Gif file from Mesh3d animation"
   ]
  },
  {
   "cell_type": "code",
   "execution_count": 1,
   "metadata": {},
   "outputs": [],
   "source": [
    "import numpy as np\n",
    "from scipy.spatial import Delaunay\n",
    "import plotly.graph_objects as go\n",
    "import  moviepy.editor as mpy"
   ]
  },
  {
   "cell_type": "code",
   "execution_count": 2,
   "metadata": {},
   "outputs": [],
   "source": [
    "import io \n",
    "from PIL import Image\n",
    "\n",
    "def plotly_fig2array(fig):\n",
    "    #convert Plotly fig to  an array\n",
    "    fig_bytes = fig.to_image(format=\"png\")#, width=600, height=450)\n",
    "    buf = io.BytesIO(fig_bytes)\n",
    "    img = Image.open(buf)\n",
    "    return np.asarray(img)"
   ]
  },
  {
   "cell_type": "markdown",
   "metadata": {},
   "source": [
    "Define a parametric surface over a circular region and  triangulate it  to define a Plotly Mesh3d, \n",
    "representing a hat:"
   ]
  },
  {
   "cell_type": "code",
   "execution_count": 3,
   "metadata": {},
   "outputs": [
    {
     "name": "stdout",
     "output_type": "stream",
     "text": [
      "MoviePy - Building file image/my_hat.gif with imageio.\n"
     ]
    },
    {
     "name": "stderr",
     "output_type": "stream",
     "text": [
      "                                                                                                                       \r"
     ]
    }
   ],
   "source": [
    "n = 20 # number of radii\n",
    "h = 2/(n-1)\n",
    "r = np.linspace(h, 2, 20)\n",
    "theta = np.linspace(0, 2*np.pi, 60)\n",
    "r, theta = np.meshgrid(r,theta)\n",
    "r = r.flatten()\n",
    "theta = theta.flatten()\n",
    "\n",
    "x = r*np.cos(theta)\n",
    "y = r*np.sin(theta)\n",
    "\n",
    "# Triangulate the circular  planar region\n",
    "tri = Delaunay(np.vstack([x,y]).T)\n",
    "faces = np.asarray(tri.simplices)\n",
    "I, J, K = faces.T\n",
    "\n",
    "f = lambda h: np.sinc(x**2+y**2)+np.sin(x+h)   \n",
    "\n",
    "fig = go.Figure(go.Mesh3d(x=x,\n",
    "                     y=y,\n",
    "                     z=f(0),\n",
    "                     intensity=f(0),\n",
    "                     i=I,\n",
    "                     j=J,\n",
    "                     k=K,\n",
    "                     colorscale='matter_r', \n",
    "                     showscale=False))\n",
    "                     \n",
    "fig.update_layout(title_text='My hat is flying with MoviePy',\n",
    "                  title_x=0.5,\n",
    "                  width=500, height=500, \n",
    "                  scene_xaxis_visible=False, \n",
    "                  scene_yaxis_visible=False, \n",
    "                  scene_zaxis_visible=False)\n",
    "\n",
    "# Instead of  Plotly animation here we define a frame by\n",
    "# converting each Plotly figure to  an array, from which MoviePy creates a clip\n",
    "# The concatenated clips are saved as a gif file:\n",
    "def make_frame(t):\n",
    "    z = f(2*np.pi*t/2)\n",
    "    fig.update_traces(z=z, intensity=z)\n",
    "    return plotly_fig2array(fig)\n",
    "\n",
    "animation = mpy.VideoClip(make_frame, duration=2)\n",
    "animation.write_gif(\"image/my_hat.gif\", fps=20)"
   ]
  },
  {
   "cell_type": "code",
   "execution_count": 4,
   "metadata": {},
   "outputs": [
    {
     "data": {
      "text/html": [
       "<img src=\"image/my_hat.gif\">\n"
      ],
      "text/plain": [
       "<IPython.core.display.HTML object>"
      ]
     },
     "metadata": {},
     "output_type": "display_data"
    }
   ],
   "source": [
    "%%html \n",
    "<img src=\"image/my_hat.gif\">\n"
   ]
  },
  {
   "cell_type": "code",
   "execution_count": null,
   "metadata": {},
   "outputs": [],
   "source": []
  }
 ],
 "metadata": {
  "kernelspec": {
   "display_name": "Python 3",
   "language": "python",
   "name": "python3"
  },
  "language_info": {
   "codemirror_mode": {
    "name": "ipython",
    "version": 3
   },
   "file_extension": ".py",
   "mimetype": "text/x-python",
   "name": "python",
   "nbconvert_exporter": "python",
   "pygments_lexer": "ipython3",
   "version": "3.7.3"
  }
 },
 "nbformat": 4,
 "nbformat_minor": 2
}
